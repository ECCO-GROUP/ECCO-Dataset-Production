{
 "cells": [
  {
   "cell_type": "code",
   "execution_count": 72,
   "id": "fdbcaff0",
   "metadata": {},
   "outputs": [],
   "source": [
    "import ecco_v4_py as ecco\n",
    "import matplotlib.colors\n",
    "import matplotlib.pyplot as plt\n",
    "from mpl_toolkits.axisartist.axislines import AxesZero #<= to plot x-axis and y-axis direction\n",
    "import xarray as xr\n",
    "import numpy as np\n",
    "import os\n",
    "import sys\n",
    "sys.path.append(r'/Users/houndegno/Documents/ECCO-PROD/ECCO-Dataset-Production/document_generator/')\n",
    "import utils\n",
    "import cartopy.crs as ccrs\n",
    "import copy\n",
    "import cmocean\n",
    "import cdf_plotter_ojh\n",
    "import glob "
   ]
  },
  {
   "cell_type": "code",
   "execution_count": 28,
   "id": "77b8f306",
   "metadata": {},
   "outputs": [],
   "source": [
    "#----------------------------------------------------------------------------------------------#\n",
    "save_to      = str('/Users/houndegno/Documents/ECCO-PROD/ECCO-Dataset-Production/document_generator/images/Figure_for_PODAAC/Figs/')\n",
    "dataset      = str('/Users/houndegno/Documents/ECCO-PROD/ECCO-Dataset-Production/document_generator/granule_datasets/natives/')\n",
    "timeaverage  = str('')\n",
    "VarNamE      = str('')\n",
    "FileName     = str('ATM_SURFACE_TEMP_HUM_WIND_PRES_day_mean_2017-12-29_ECCO_V4r4_native_llc0090.nc')\n",
    "#---------------------------------------------------------------------------------------------#"
   ]
  },
  {
   "cell_type": "code",
   "execution_count": 66,
   "id": "0535a2ed",
   "metadata": {},
   "outputs": [],
   "source": [
    "zita = sorted(os.listdir(path=\"../../granule_datasets/latlon/\"))"
   ]
  },
  {
   "cell_type": "code",
   "execution_count": 65,
   "id": "f069bfec",
   "metadata": {},
   "outputs": [],
   "source": [
    "# glob.glob(\"../../granule_datasets/latlon/\"+\"*.nc\")"
   ]
  },
  {
   "cell_type": "code",
   "execution_count": 70,
   "id": "1d32abf1",
   "metadata": {},
   "outputs": [
    {
     "data": {
      "text/plain": [
       "'ATM_SURFACE_TEMP_HUM_WIND_PRES_day_mean_2017-12-29_ECCO_V4r4_latlon_0p50deg'"
      ]
     },
     "execution_count": 70,
     "metadata": {},
     "output_type": "execute_result"
    }
   ],
   "source": [
    "zita[0][:-3]"
   ]
  },
  {
   "cell_type": "code",
   "execution_count": 121,
   "id": "91b7cb28",
   "metadata": {},
   "outputs": [],
   "source": [
    "def plot_fig_for_PODAAC(dataType=\"natives\"):\n",
    "    # Dataset source reading\n",
    "    if dataType ==\"natives\":\n",
    "        data_source = \"../../granule_datasets/natives/\"\n",
    "        # Getting the content of selected dataset type source folder\n",
    "        DataSet_list = sorted(os.listdir(path=data_source))\n",
    "        # Getting the na,e of each dataset selected without the extension \".nc\"\n",
    "        # This is to save the plotted figure with the selected dataset name\n",
    "        DataSet_name = []\n",
    "        for i in DataSet_list:\n",
    "            DataSet_name.append(i[:-3])\n",
    "    elif dataType == \"latlon\":\n",
    "        data_source = \"../../granule_datasets/latlon/\"\n",
    "        # Getting the content of selected dataset type source folder\n",
    "        DataSet_list = sorted(os.listdir(path=data_source))\n",
    "        # Getting the na,e of each dataset selected without the extension \".nc\"\n",
    "        # This is to save the plotted figure with the selected dataset name\n",
    "        DataSet_name = []\n",
    "        for i in DataSet_list:\n",
    "            DataSet_name.append(i[:-3])\n",
    "    elif dataType == \"oneD\":\n",
    "        data_source = \"../../granule_datasets/oneD/\"\n",
    "        # Getting the content of selected dataset type source folder\n",
    "        DataSet_list = sorted(os.listdir(path=data_source))\n",
    "        # Getting the na,e of each dataset selected without the extension \".nc\"\n",
    "        # This is to save the plotted figure with the selected dataset name\n",
    "        DataSet_name = []\n",
    "        for i in DataSet_list:\n",
    "            DataSet_name.append(i[:-3])\n",
    "    else:\n",
    "        print(\"Noway! Make your choice in {'natives', 'latlon', 'oneD'}\")\n",
    "    \n",
    "    \n",
    "    # Selection of dataset to plot per variable\n",
    "    # /!\\ Testing for the first file#ij=0\n",
    "    for ij in np.arange(len(DataSet_name)):\n",
    "        DataSet_input = data_source+DataSet_list[ij]\n",
    "        # For xr.Dataset\n",
    "        DS = xr.open_dataset(DataSet_input)\n",
    "        # For variable list\n",
    "        DataSet_var_list = sorted(DS.data_vars)\n",
    "        # /!\\ testing with the first varible# ijk = 0\n",
    "        for ijk in np.arange(len(DataSet_var_list)):\n",
    "            if dataType ==\"natives\":\n",
    "                # plotting with \"plot_native\"\n",
    "                cdf_plotter_ojh.plot_native(ds=DS,field=DS[DataSet_var_list[ijk]],\n",
    "                                           output_dir=\"./\",show_colorbar=True)\n",
    "            elif dataType == \"latlon\":\n",
    "                cdf_plotter_ojh.plot_latlon(ds=DS, field=DS[DataSet_var_list[ijk]], directory='./')\n",
    "            elif dataType == \"oneD\":\n",
    "                cdf_plotter_ojh.plot_oneD(ds=DS, field=DS[DataSet_var_list[ijk]], directory='./')\n",
    "            else:\n",
    "                print(\"Noway! Make your choice in {'natives', 'latlon', 'oneD'}\")\n",
    "            #-------------------------------------------------------------------#\n",
    "            fig_path = 'Figs/'+DataSet_name[ij]+\"_var_\"+DataSet_var_list[ijk]+\"_pic.png\"\n",
    "            plt.savefig(fig_path, dpi=300, facecolor='w', bbox_inches='tight', pad_inches = 0.05)\n",
    "            plt.close('all')"
   ]
  },
  {
   "cell_type": "code",
   "execution_count": 91,
   "id": "d77850f0",
   "metadata": {},
   "outputs": [
    {
     "data": {
      "text/plain": [
       "'Figure_for_PODAAC/Figs/ATM_SURFACE_TEMP_HUM_WIND_PRES_day_mean_2017-12-29_ECCO_V4r4_native_llc0090_var_EXFaqh_pic.png'"
      ]
     },
     "execution_count": 91,
     "metadata": {},
     "output_type": "execute_result"
    }
   ],
   "source": []
  },
  {
   "cell_type": "code",
   "execution_count": 122,
   "id": "eac93c23",
   "metadata": {},
   "outputs": [
    {
     "name": "stdout",
     "output_type": "stream",
     "text": [
      "Noway! Make your choice in {'natives', 'latlon', 'oneD'}\n"
     ]
    },
    {
     "ename": "UnboundLocalError",
     "evalue": "local variable 'DataSet_list' referenced before assignment",
     "output_type": "error",
     "traceback": [
      "\u001b[0;31m---------------------------------------------------------------------------\u001b[0m",
      "\u001b[0;31mUnboundLocalError\u001b[0m                         Traceback (most recent call last)",
      "Cell \u001b[0;32mIn[122], line 1\u001b[0m\n\u001b[0;32m----> 1\u001b[0m \u001b[43mplot_fig_for_PODAAC\u001b[49m\u001b[43m(\u001b[49m\u001b[43mdataType\u001b[49m\u001b[38;5;241;43m=\u001b[39;49m\u001b[38;5;124;43m\"\u001b[39;49m\u001b[38;5;124;43mlatlone\u001b[39;49m\u001b[38;5;124;43m\"\u001b[39;49m\u001b[43m)\u001b[49m\n",
      "Cell \u001b[0;32mIn[121], line 21\u001b[0m, in \u001b[0;36mplot_fig_for_PODAAC\u001b[0;34m(dataType)\u001b[0m\n\u001b[1;32m     18\u001b[0m \u001b[38;5;66;03m# Getting the na,e of each dataset selected without the extension \".nc\"\u001b[39;00m\n\u001b[1;32m     19\u001b[0m \u001b[38;5;66;03m# This is to save the plotted figure with the selected dataset name\u001b[39;00m\n\u001b[1;32m     20\u001b[0m DataSet_name \u001b[38;5;241m=\u001b[39m []\n\u001b[0;32m---> 21\u001b[0m \u001b[38;5;28;01mfor\u001b[39;00m i \u001b[38;5;129;01min\u001b[39;00m \u001b[43mDataSet_list\u001b[49m:\n\u001b[1;32m     22\u001b[0m     DataSet_name\u001b[38;5;241m.\u001b[39mappend(i[:\u001b[38;5;241m-\u001b[39m\u001b[38;5;241m3\u001b[39m])\n\u001b[1;32m     23\u001b[0m \u001b[38;5;66;03m# Selection of dataset to plot per variable\u001b[39;00m\n\u001b[1;32m     24\u001b[0m \u001b[38;5;66;03m# /!\\ Testing for the first file#ij=0\u001b[39;00m\n",
      "\u001b[0;31mUnboundLocalError\u001b[0m: local variable 'DataSet_list' referenced before assignment"
     ]
    }
   ],
   "source": [
    "plot_fig_for_PODAAC(dataType=\"latlone\")"
   ]
  }
 ],
 "metadata": {
  "kernelspec": {
   "display_name": "Python 3 (ipykernel)",
   "language": "python",
   "name": "python3"
  },
  "language_info": {
   "codemirror_mode": {
    "name": "ipython",
    "version": 3
   },
   "file_extension": ".py",
   "mimetype": "text/x-python",
   "name": "python",
   "nbconvert_exporter": "python",
   "pygments_lexer": "ipython3",
   "version": "3.9.16"
  }
 },
 "nbformat": 4,
 "nbformat_minor": 5
}
