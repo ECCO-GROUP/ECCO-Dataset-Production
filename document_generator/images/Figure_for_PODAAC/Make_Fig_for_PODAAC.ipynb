{
 "cells": [
  {
   "cell_type": "code",
   "execution_count": 72,
   "id": "6cd2f660",
   "metadata": {},
   "outputs": [],
   "source": [
    "import ecco_v4_py as ecco\n",
    "import matplotlib.colors\n",
    "import matplotlib.pyplot as plt\n",
    "from mpl_toolkits.axisartist.axislines import AxesZero #<= to plot x-axis and y-axis direction\n",
    "import xarray as xr\n",
    "import numpy as np\n",
    "import os\n",
    "import sys\n",
    "sys.path.append(r'/Users/houndegno/Documents/ECCO-PROD/ECCO-Dataset-Production/document_generator/')\n",
    "import utils\n",
    "import cartopy.crs as ccrs\n",
    "import copy\n",
    "import cmocean\n",
    "import cdf_plotter_ojh\n",
    "import glob "
   ]
  },
  {
   "cell_type": "code",
   "execution_count": 28,
   "id": "6ff614d1",
   "metadata": {},
   "outputs": [],
   "source": [
    "#----------------------------------------------------------------------------------------------#\n",
    "save_to      = str('/Users/houndegno/Documents/ECCO-PROD/ECCO-Dataset-Production/document_generator/images/Figure_for_PODAAC/Figs/')\n",
    "dataset      = str('/Users/houndegno/Documents/ECCO-PROD/ECCO-Dataset-Production/document_generator/granule_datasets/natives/')\n",
    "timeaverage  = str('')\n",
    "VarNamE      = str('')\n",
    "FileName     = str('ATM_SURFACE_TEMP_HUM_WIND_PRES_day_mean_2017-12-29_ECCO_V4r4_native_llc0090.nc')\n",
    "#---------------------------------------------------------------------------------------------#"
   ]
  },
  {
   "cell_type": "code",
   "execution_count": 125,
   "id": "787fb7ae",
   "metadata": {},
   "outputs": [],
   "source": [
    "def plot_fig_for_PODAAC(dataType=\"natives\"):\n",
    "    # Dataset source reading\n",
    "    if dataType ==\"natives\":\n",
    "        data_source = \"../../granule_datasets/natives/\"\n",
    "    elif dataType == \"latlon\":\n",
    "        data_source = \"../../granule_datasets/latlon/\"\n",
    "    elif dataType == \"oneD\":\n",
    "        data_source = \"../../granule_datasets/oneD/\"\n",
    "    else:\n",
    "        print(\"Noway! Make your choice in {'natives', 'latlon', 'oneD'}\")\n",
    "            \n",
    "    # Getting the content of selected dataset type source folder\n",
    "    DataSet_list = sorted(os.listdir(path=data_source))\n",
    "    # Getting the na,e of each dataset selected without the extension \".nc\"\n",
    "    # This is to save the plotted figure with the selected dataset name\n",
    "    DataSet_name = []\n",
    "    for i in DataSet_list:\n",
    "        DataSet_name.append(i[:-3])\n",
    "    # Selection of dataset to plot per variable\n",
    "    # /!\\ Testing for the first file#ij=0\n",
    "    for ij in np.arange(len(DataSet_name)):\n",
    "        DataSet_input = data_source+DataSet_list[ij]\n",
    "        # For xr.Dataset\n",
    "        DS = xr.open_dataset(DataSet_input)\n",
    "        # For variable list\n",
    "        DataSet_var_list = sorted(DS.data_vars)\n",
    "        # /!\\ testing with the first varible# ijk = 0\n",
    "        for ijk in np.arange(len(DataSet_var_list)):\n",
    "            if dataType ==\"natives\":\n",
    "                # plotting with \"plot_native\"\n",
    "                cdf_plotter_ojh.plot_native(ds=DS,field=DS[DataSet_var_list[ijk]],\n",
    "                                           output_dir=\"./\",show_colorbar=True)\n",
    "            elif dataType == \"latlon\":\n",
    "                cdf_plotter_ojh.plot_latlon(ds=DS, field=DS[DataSet_var_list[ijk]], directory='./')\n",
    "            elif dataType == \"oneD\":\n",
    "                cdf_plotter_ojh.plot_oneD(ds=DS, field=DS[DataSet_var_list[ijk]], directory='./')\n",
    "            else:\n",
    "                print(\"Noway! Make your choice in {'natives', 'latlon', 'oneD'}\")\n",
    "\n",
    "            fig_path = 'Figs/'+DataSet_name[ij]+\"_var_\"+DataSet_var_list[ijk]+\"_pic.png\"\n",
    "            plt.savefig(fig_path, dpi=300, facecolor='w', bbox_inches='tight', pad_inches = 0.05)\n",
    "            plt.close('all')"
   ]
  },
  {
   "cell_type": "code",
   "execution_count": 129,
   "id": "522b0d5b",
   "metadata": {},
   "outputs": [],
   "source": [
    "plot_fig_for_PODAAC(dataType=\"natives\")\n",
    "plot_fig_for_PODAAC(dataType=\"latlon\")\n",
    "plot_fig_for_PODAAC(dataType=\"oneD\")"
   ]
  }
 ],
 "metadata": {
  "kernelspec": {
   "display_name": "Python 3 (ipykernel)",
   "language": "python",
   "name": "python3"
  },
  "language_info": {
   "codemirror_mode": {
    "name": "ipython",
    "version": 3
   },
   "file_extension": ".py",
   "mimetype": "text/x-python",
   "name": "python",
   "nbconvert_exporter": "python",
   "pygments_lexer": "ipython3",
   "version": "3.9.16"
  }
 },
 "nbformat": 4,
 "nbformat_minor": 5
}
